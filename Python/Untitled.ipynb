{
 "cells": [
  {
   "cell_type": "code",
   "execution_count": null,
   "id": "2727c82c",
   "metadata": {},
   "outputs": [],
   "source": [
    "print(\"3x5\")"
   ]
  }
 ],
 "metadata": {
  "kernelspec": {
   "display_name": "Python 3.10.5 64-bit",
   "language": "python",
   "name": "python3"
  },
  "language_info": {
   "codemirror_mode": {
    "name": "ipython",
    "version": 3
   },
   "file_extension": ".py",
   "mimetype": "text/x-python",
   "name": "python",
   "nbconvert_exporter": "python",
   "pygments_lexer": "ipython3",
   "version": "3.10.5"
  },
  "vscode": {
   "interpreter": {
    "hash": "f2bc954c822d6e7f6522b4e6bf1ab009396bc12faa5fb34fde524ebd9be27ddf"
   }
  }
 },
 "nbformat": 4,
 "nbformat_minor": 5
}
